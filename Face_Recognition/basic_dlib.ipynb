{
 "cells": [
  {
   "cell_type": "markdown",
   "metadata": {},
   "source": [
    "# landmark \n",
    "    - 웹캠"
   ]
  },
  {
   "cell_type": "code",
   "execution_count": 81,
   "metadata": {},
   "outputs": [],
   "source": [
    "import cv2\n",
    "import numpy as np\n",
    "import dlib\n",
    "\n",
    "cap = cv2.VideoCapture(0)\n",
    "\n",
    "detector = dlib.get_frontal_face_detector()\n",
    "predictor = dlib.shape_predictor(\"shape_predictor_68_face_landmarks.dat\")\n",
    "\n",
    "while True:\n",
    "    _, frame = cap.read()\n",
    "    frame = cv2.flip(frame, 1)\n",
    "    # gray scale ( 1가지채널만 있기때문에 연산이 빨라진다 )\n",
    "    gray = cv2.cvtColor(frame, cv2.COLOR_BGR2GRAY)\n",
    "    \n",
    "    faces = detector(gray)\n",
    "    for face in faces:\n",
    "        # 얼굴의 좌표값이 나온다\n",
    "        x1 = face.left()\n",
    "        y1 = face.top()\n",
    "        x2 = face.right()\n",
    "        y2 = face.left()\n",
    "        # 사각형 그리기\n",
    "        # cv2.rectangle(frame, (x1, y1), (x2, y2), (0, 255, 0), 3)\n",
    "        \n",
    "        # 랜드마크 그리기\n",
    "        landmarks = predictor(gray, face)\n",
    "        \n",
    "        for n in range(0, 68):\n",
    "            # 포인트의 번호 얻기\n",
    "            x = landmarks.part(n).x\n",
    "            y = landmarks.part(n).y \n",
    "            cv2.putText(frame, str(n), (x-3,y-7) ,2, 0.4, (255,0, 0))\n",
    "            cv2.circle(frame, (x, y), 2, (255, 0, 0), -1)\n",
    "        \n",
    "            \n",
    "        #cv2.line(image, 시작, 끝, 색, 두께)\n",
    "        # 입꼬리\n",
    "        cv2.line(frame, (landmarks.part(3).x, landmarks.part(3).y) ,\n",
    "                 (landmarks.part(48).x, landmarks.part(48).y) , (255,0,0), 2)\n",
    "        cv2.line(frame, (landmarks.part(13).x, landmarks.part(13).y) ,\n",
    "                 (landmarks.part(54).x, landmarks.part(54).y) , (255,0,0), 2)\n",
    "        #미간사이\n",
    "        cv2.line(frame, (landmarks.part(21).x, landmarks.part(21).y) ,\n",
    "                 (landmarks.part(22).x, landmarks.part(22).y) , (255,0,0), 2)\n",
    "        #입 위~아래\n",
    "        cv2.line(frame, (landmarks.part(51).x, landmarks.part(51).y) ,\n",
    "                 (landmarks.part(57).x, landmarks.part(57).y) , (255,0,0), 2)\n",
    "        #코 끝\n",
    "        #눈 위아래 사이\n",
    "        cv2.line(frame, (landmarks.part(37).x, landmarks.part(37).y) ,\n",
    "                 (landmarks.part(41).x, landmarks.part(41).y) , (255,0,0), 2)\n",
    "        cv2.line(frame, (landmarks.part(43).x, landmarks.part(43).y) ,\n",
    "                 (landmarks.part(47).x, landmarks.part(47).y) , (255,0,0), 2)\n",
    "        \n",
    "        \n",
    "        # 입꼬리        \n",
    "        cv2.putText(frame, \"L-mouth to cheeck : \", (10, 50), 2, 0.4, (0,255,255))\n",
    "        cv2.putText(frame, str(get_distance(3, 48))[:6], (150, 50), 2, 0.4, (0,255,255))\n",
    "        cv2.putText(frame, \"R-mouth to cheeck : \", (10, 65), 2, 0.4, (0,255,255))\n",
    "        cv2.putText(frame, str(get_distance(13, 54))[:6], (150, 65), 2, 0.4, (0,255,255))\n",
    "        # 미간사이\n",
    "        cv2.putText(frame, \"Between eyebrows : \", (10, 80), 2, 0.4, (0,255,255))\n",
    "        cv2.putText(frame, str(get_distance(21, 22))[:6], (150, 80), 2, 0.4, (0,255,255))\n",
    "        # 입 위-아래\n",
    "        cv2.putText(frame, \"Mouth size : \", (10, 95), 2, 0.4, (0,255,255))\n",
    "        cv2.putText(frame, str(get_distance(51, 57))[:6], (150, 95), 2, 0.4, (0,255,255))\n",
    "        # 눈 위아래 사이\n",
    "        cv2.putText(frame, \"L-eye size : \", (10, 110), 2, 0.4, (0,255,255))\n",
    "        cv2.putText(frame, str(get_distance(37, 41))[:6], (150, 110), 2, 0.4, (0,255,255))\n",
    "        cv2.putText(frame, \"R-eye size : \", (10, 125), 2, 0.4, (0,255,255))\n",
    "        cv2.putText(frame, str(get_distance(43, 47))[:6], (150, 125), 2, 0.4, (0,255,255))\n",
    "        \n",
    "    \n",
    "    cv2.imshow(\"Frame\", frame)\n",
    "    \n",
    "    key = cv2.waitKey(1)\n",
    "    if key == 27:\n",
    "        cap.release()\n",
    "        cv2.destroyWindow('Frame')\n",
    "        break\n"
   ]
  },
  {
   "cell_type": "code",
   "execution_count": 39,
   "metadata": {},
   "outputs": [],
   "source": [
    "import math\n",
    "def get_distance(n1, n2):\n",
    "    return (((landmarks.part(n1).x - landmarks.part(n2).x) ** 2) + ((landmarks.part(n1).y - landmarks.part(n2).y)) ** 2) ** 0.5"
   ]
  },
  {
   "cell_type": "markdown",
   "metadata": {},
   "source": [
    "# 감정의 종류\n",
    "## 분노, 놀라움, 혐오, 슬픔, 행복, 공포, 무표정"
   ]
  },
  {
   "cell_type": "markdown",
   "metadata": {},
   "source": [
    "# 요소종류"
   ]
  },
  {
   "cell_type": "markdown",
   "metadata": {},
   "source": [
    "## 랜드마크 번호기준\n",
    "    - 입꼬리 ( 좌 = 3 - 48 ), (우 = 13 - 54)\n",
    "    - 미간사이 ( 21 - 22)\n",
    "    - 입 위아래 ( 위 = 51, 아래 = 57 (\n",
    "    - 코 끝 ( 좌 - 31, 가운데 - 33, 우 - 35 )\n",
    "    - 눈사이 위아래 사이 ( 좌 - 37,38 - 41,40 ) ( 우 - 43,44 - 47, 46 )"
   ]
  },
  {
   "cell_type": "markdown",
   "metadata": {},
   "source": [
    "## 감정에 따른 얼굴 형태의 변화\n",
    "https://www.credible-ss.com/blog/2013/01/07/The-Seven-Basic-Emotions-Do-you-know-them.aspx"
   ]
  },
  {
   "cell_type": "markdown",
   "metadata": {},
   "source": [
    "# 감정에 따른 표정 변화\n",
    "    - 분노 : 미간사이가 좁아진다\n",
    "    - 놀라움 :눈의 위아래가 넓어진다\n",
    "    - 혐오 : 미간사이가 좁아진다, 코의 양끝이 올라간다\n",
    "    - 슬픔 : 눈의 위아래가 좁아진다, 입꼬리가 내려간다, 광대가 올라간다\n",
    "    - 행복 : 입꼬리가 올라간다, 광대가 올라간다, 눈썹이 올라간다, \n",
    "    - 공포 : 입을 벌린다, 눈이 커진다, "
   ]
  },
  {
   "cell_type": "markdown",
   "metadata": {},
   "source": [
    "## 분노\n",
    "    - 눈썹이 내려감\n",
    "    - 눈썹이 가운데로 몰림\n",
    "    - 입이 약간 벌어짐\n",
    "    - 코의 양끝이 올라감"
   ]
  },
  {
   "cell_type": "markdown",
   "metadata": {},
   "source": [
    "## 슬픔\n",
    "    - 입꼬리가 내려감\n",
    "    - 약간의 찡그림\n",
    "    - 눈썹끝이 내려감\n",
    "    - 눈이 작아짐\n",
    "    "
   ]
  },
  {
   "cell_type": "markdown",
   "metadata": {},
   "source": [
    "## 행복\n",
    "    - 입꼬리가 올라감\n",
    "    - 입이 약간 벌어짐\n",
    "    - 눈이 약간 작아짐"
   ]
  },
  {
   "cell_type": "markdown",
   "metadata": {},
   "source": [
    "## 놀람\n",
    "    - 눈썹이 올라감\n",
    "    - 눈의 세로 크기가 커짐\n",
    "    - 입이 벌어짐"
   ]
  },
  {
   "cell_type": "markdown",
   "metadata": {},
   "source": [
    "/images/train/\n",
    "## 얼굴만 따로 저장함"
   ]
  },
  {
   "cell_type": "code",
   "execution_count": 23,
   "metadata": {},
   "outputs": [],
   "source": [
    "import os, cv2, dlib\n",
    "import matplotlib.pyplot as plt\n",
    "import numpy as np\n",
    "\n",
    "detector = dlib.get_frontal_face_detector()\n",
    "predictor = dlib.shape_predictor(\"shape_predictor_68_face_landmarks.dat\")\n",
    "\n",
    "# angry_path_dir = 'c:/MyJupyter/Image_analysis/images/train/angry/'\n",
    "image_path_dir = 'c:/MyJupyter/Image_analysis/images/angry/'\n",
    "save_dir = 'c:/MyJupyter/Image_analysis/mine/'\n",
    "image_list = os.listdir(image_path_dir)\n",
    "image_number = 1\n",
    "\n",
    "for f in image_list[:50]:\n",
    "    # 하나씩 불러오기\n",
    "    file = image_path_dir + f\n",
    "    # 이미지로 만들기\n",
    "    image = cv2.imread(file)\n",
    "    \n",
    "    if np.shape(image) == ():\n",
    "        continue\n",
    "    \n",
    "    gray = cv2.cvtColor(image, cv2.COLOR_BGR2GRAY)\n",
    "    faces = detector(gray)\n",
    "    \n",
    "    # 얼굴탐지 실패시 for 문을 만들어감\n",
    "    for face in faces:\n",
    "        # 얼굴의 좌표값이 나온다\n",
    "        x1 = face.left()\n",
    "        y1 = face.top()\n",
    "        x2 = face.right()\n",
    "        y2 = face.bottom()\n",
    "        \n",
    "        \n",
    "        # 랜드마크 그리기\n",
    "        landmarks = predictor(gray, face)\n",
    "        \n",
    "        for n in range(0, 68):\n",
    "            # 포인트의 번호 얻기\n",
    "            x = landmarks.part(n).x\n",
    "            y = landmarks.part(n).y \n",
    "            cv2.putText(gray, str(n), (x-3,y-7) ,2, 0.4, (255,0, 0))\n",
    "            cv2.circle(gray, (x, y), 2, (255, 0, 0), -1)\n",
    "        \n",
    "                \n",
    "        cut = gray.copy()\n",
    "        cut = cut[y1:y2, x1:x2]\n",
    "        save = save_dir + str(image_number) + \".jpg\"\n",
    "        image_number += 1\n",
    "        cv2.imwrite(save, cut)\n",
    "            "
   ]
  },
  {
   "cell_type": "code",
   "execution_count": null,
   "metadata": {},
   "outputs": [],
   "source": []
  }
 ],
 "metadata": {
  "kernelspec": {
   "display_name": "Python 3",
   "language": "python",
   "name": "python3"
  },
  "language_info": {
   "codemirror_mode": {
    "name": "ipython",
    "version": 3
   },
   "file_extension": ".py",
   "mimetype": "text/x-python",
   "name": "python",
   "nbconvert_exporter": "python",
   "pygments_lexer": "ipython3",
   "version": "3.7.5"
  }
 },
 "nbformat": 4,
 "nbformat_minor": 2
}
